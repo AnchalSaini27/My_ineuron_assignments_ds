{
 "cells": [
  {
   "cell_type": "code",
   "execution_count": 1,
   "id": "2ac4f935",
   "metadata": {},
   "outputs": [
    {
     "ename": "SyntaxError",
     "evalue": "unterminated string literal (detected at line 3) (2412067774.py, line 3)",
     "output_type": "error",
     "traceback": [
      "\u001b[1;36m  Cell \u001b[1;32mIn[1], line 3\u001b[1;36m\u001b[0m\n\u001b[1;33m    Lambda functions are similar to user-defined functions but without a name. They're commonly referred to as anonymous functions.\u001b[0m\n\u001b[1;37m                                                                                   ^\u001b[0m\n\u001b[1;31mSyntaxError\u001b[0m\u001b[1;31m:\u001b[0m unterminated string literal (detected at line 3)\n"
     ]
    }
   ],
   "source": [
    "1. What is a lambda function in Python, and how does it differ from a regular function?\n",
    "Ans:-\n",
    "    Lambda functions are similar to user-defined functions but without a name. They're commonly referred to as anonymous functions.\n",
    "    Lambda functions are efficient whenever you want to create a function that will only contain simple expressions – that is, expressions that are usually a single line of a statement. \n",
    "    Lambda function also useful when you want to use the function once."
   ]
  },
  {
   "cell_type": "code",
   "execution_count": null,
   "id": "0ae20f8e",
   "metadata": {},
   "outputs": [],
   "source": [
    "2. Can a lambda function in Python have multiple arguments? If yes, how can you define and use\n",
    "them?\n",
    "Ans:-Yes, a lambda function in Python can have multiple arguments. \n",
    "     we can define and use them by separating the arguments with commas.\n",
    "multiply = lambda x, y: x * y\n",
    "\n",
    "result = multiply(5, 3)\n",
    "print(result) "
   ]
  },
  {
   "cell_type": "code",
   "execution_count": null,
   "id": "812db81f",
   "metadata": {},
   "outputs": [],
   "source": [
    "3. How are lambda functions typically used in Python? Provide an example use case.\n",
    "Ans:-\n",
    "    Lambda functions are typically used in Python for situations where a small, anonymous function is required, especially when passing functions as arguments or using them in situations where a full function definition is not necessary.\n",
    "    \n",
    "     Here are a few common use cases for lambda functions:\n",
    "        \n",
    "    \n",
    "\n",
    "1.Sorting:\n",
    "Lambda functions are commonly used as the key argument in sorting operations.\n",
    "names = [\"Alice\", \"Bob\", \"Charlie\", \"Dave\"]\n",
    "sorted_names = sorted(names, key=lambda x: len(x))\n",
    "print(sorted_names)  # Output: ['Bob', 'Dave', 'Alice', 'Charlie']\n",
    "\n",
    "\n",
    "2.Filtering:\n",
    "Lambda functions can be used with filtering functions like filter() to conditionally include or exclude elements from a sequence. \n",
    "numbers = [1, 2, 3, 4, 5, 6]\n",
    "even_numbers = list(filter(lambda x: x % 2 == 0, numbers))\n",
    "print(even_numbers)  # Output: [2, 4, 6]\n",
    "\n",
    "\n",
    "3.Mapping:\n",
    "Lambda functions can be used with mapping functions like map() to transform elements of a sequence. \n",
    "numbers = [1, 2, 3, 4, 5]\n",
    "squared_numbers = list(map(lambda x: x ** 2, numbers))\n",
    "print(squared_numbers)  # Output: [1, 4, 9, 16, 25]\n"
   ]
  },
  {
   "cell_type": "code",
   "execution_count": null,
   "id": "dcd57992",
   "metadata": {},
   "outputs": [],
   "source": [
    "4. What are the advantages and limitations of lambda functions compared to regular functions in\n",
    "Python?\n",
    "Ans:-\n",
    "    Advantages of Lambda Functions:\n",
    "\n",
    "1.Concise and Readable Code: Lambda functions allow you to write compact and concise code, especially for small, one-time-use functions. They can make code more readable by reducing the need for explicit function definitions.\n",
    "\n",
    "2.Anonymous Functions: Lambda functions are anonymous functions, meaning they don't require a formal name. This can be advantageous when you have a function that is only used in a specific context or as an argument to another function.\n",
    "\n",
    "3.Flexibility: Lambda functions can be used as arguments to other functions, allowing you to write more expressive and flexible code. They are often used with higher-order functions like map(), filter(), and sorted().\n",
    "    \n",
    "    \n",
    "    \n",
    "\n",
    "\n",
    "\n",
    "Limitations of Lambda Functions:\n",
    "\n",
    "1.Limited Functionality: Lambda functions are restricted to a single expression and cannot contain multiple statements or complex logic. They are best suited for simple and concise operations.\n",
    "\n",
    "2.No Docstrings or Annotations: Lambda functions do not support docstrings or annotations. Docstrings are used to document the purpose and usage of a function, while annotations provide additional type information.\n",
    "\n",
    "3.Reduced Reusability: Lambda functions are not easily reusable across different parts of a program. They are typically created and used within a specific context or as part of a single expression.\n",
    "\n",
    "4.Limited Debugging: Since lambda functions lack a formal name, debugging can be more challenging when encountering issues within a lambda function. It may be harder to identify and isolate specific lambda functions during the debugging process.    "
   ]
  },
  {
   "cell_type": "code",
   "execution_count": null,
   "id": "f3afe69e",
   "metadata": {},
   "outputs": [],
   "source": [
    "5. Are lambda functions in Python able to access variables defined outside of their own scope?\n",
    "Explain with an example.\n",
    "\n",
    "Ans:-\n",
    "    Yes, lambda functions in Python can access variables defined outside of their own scope. \n",
    "    def outer_function():\n",
    "    x = 10\n",
    "    lambda_func = lambda y: x + y\n",
    "    return lambda_func\n",
    "\n",
    "my_lambda = outer_function()\n",
    "result = my_lambda(5)\n",
    "print(result)  # Output: 15\n",
    "\n",
    "    "
   ]
  },
  {
   "cell_type": "code",
   "execution_count": null,
   "id": "9ece7337",
   "metadata": {},
   "outputs": [],
   "source": [
    "#6. Write a lambda function to calculate the square of a given number.\n",
    "\n",
    "square=(lambda x:x**2)\n"
   ]
  },
  {
   "cell_type": "code",
   "execution_count": null,
   "id": "827d88d3",
   "metadata": {},
   "outputs": [],
   "source": [
    "result=square(3)"
   ]
  },
  {
   "cell_type": "code",
   "execution_count": null,
   "id": "8ad7c972",
   "metadata": {},
   "outputs": [],
   "source": [
    "print(result)"
   ]
  },
  {
   "cell_type": "code",
   "execution_count": null,
   "id": "1c445fa8",
   "metadata": {},
   "outputs": [],
   "source": [
    "#7. Create a lambda function to find the maximum value in a list of integers.\n",
    "\n",
    "maximum=(lambda lst:max(lst))\n"
   ]
  },
  {
   "cell_type": "code",
   "execution_count": null,
   "id": "64721e5d",
   "metadata": {},
   "outputs": [],
   "source": [
    "lst=[2,6,7,8,9,]\n",
    "\n",
    "result=maximum(lst)\n",
    "print(result)"
   ]
  },
  {
   "cell_type": "code",
   "execution_count": null,
   "id": "eb4a6679",
   "metadata": {},
   "outputs": [],
   "source": [
    "#8. Implement a lambda function to filter out all the even numbers from a list of integer.\n",
    "\n",
    "filter_even = lambda lst: list(filter(lambda x: x % 2 == 0, lst))"
   ]
  },
  {
   "cell_type": "code",
   "execution_count": null,
   "id": "736e71bf",
   "metadata": {},
   "outputs": [],
   "source": [
    "lst=[2,3,4,6,7,8,2,4]\n",
    "result=filter_even(lst)\n",
    "print(result)"
   ]
  },
  {
   "cell_type": "code",
   "execution_count": null,
   "id": "5142770a",
   "metadata": {},
   "outputs": [],
   "source": [
    "#9. Write a lambda function to sort a list of strings in ascending order based on the length of each string.\n",
    "\n",
    "sort_by_length = lambda lst: sorted(lst, key=lambda x: len(x))\n"
   ]
  },
  {
   "cell_type": "code",
   "execution_count": null,
   "id": "ee16e5e9",
   "metadata": {
    "scrolled": true
   },
   "outputs": [],
   "source": [
    "lst=['apple','banana','lichi','gavava']\n",
    "\n",
    "sorting_string=sort_by_length(lst)\n",
    "print(sorting_string)"
   ]
  },
  {
   "cell_type": "code",
   "execution_count": null,
   "id": "193c94ea",
   "metadata": {},
   "outputs": [],
   "source": [
    "#10. Create a lambda function that takes two lists as input and returns a new list containing the common elements between the two lists.\n",
    "\n",
    "cmn_ele=lambda l1,l2:list(filter(lambda x:x in l1,l2))"
   ]
  },
  {
   "cell_type": "code",
   "execution_count": null,
   "id": "35a6338a",
   "metadata": {},
   "outputs": [],
   "source": [
    "l1 = [1, 2, 3, 4, 5]\n",
    "l2 = [4, 5, 6, 7, 8]\n",
    "\n",
    "result=cmn_ele(l1,l2)\n",
    "print(result)"
   ]
  },
  {
   "cell_type": "code",
   "execution_count": null,
   "id": "b6ed2fea",
   "metadata": {},
   "outputs": [],
   "source": [
    "#11. Write a recursive function to calculate the factorial of a given positive integer.\n",
    "\n",
    "\n",
    "def factorial(num):\n",
    "    if num==0 or num==1:\n",
    "        return 1\n",
    "    else:\n",
    "        return (num*factorial(num-1))\n",
    "    \n",
    "    "
   ]
  },
  {
   "cell_type": "code",
   "execution_count": null,
   "id": "edad0607",
   "metadata": {},
   "outputs": [],
   "source": [
    "facto=factorial(15)\n",
    "print(facto)"
   ]
  },
  {
   "cell_type": "code",
   "execution_count": null,
   "id": "e3103936",
   "metadata": {},
   "outputs": [],
   "source": [
    "#12. Implement a recursive function to compute the nth Fibonacci number.\n",
    "\n",
    "n=10\n",
    "def fib(n):\n",
    "    if n==0 or n==1:\n",
    "        return n\n",
    "    else:\n",
    "        return (fib(n-1)+fib(n-2))\n",
    "    \n",
    "\n",
    "for i in range(n):\n",
    "    print(fib(i))\n"
   ]
  },
  {
   "cell_type": "code",
   "execution_count": null,
   "id": "80d9f4d4",
   "metadata": {},
   "outputs": [],
   "source": [
    "#13. Create a recursive function to find the sum of all the elements in a given list.\n",
    "\n",
    "\n",
    "def sum(list):\n",
    "    if list==0:\n",
    "        return 0\n",
    "    else:\n",
    "        return sum(list)\n",
    "    \n",
    "    "
   ]
  },
  {
   "cell_type": "code",
   "execution_count": null,
   "id": "66d0df26",
   "metadata": {},
   "outputs": [],
   "source": [
    "list=[2,3,4,5,6]\n",
    "sum_of_list=sum(list)\n",
    "print(sum_of_list)"
   ]
  },
  {
   "cell_type": "code",
   "execution_count": null,
   "id": "266b0b20",
   "metadata": {},
   "outputs": [],
   "source": [
    "#14. Write a recursive function to determine whether a given string is a palindrome.\n",
    "\n",
    "def is_palindrome(string):\n",
    "    if len(string) <= 1:\n",
    "        return True\n",
    "    else:\n",
    "        if string[0] == string[-1]:\n",
    "            return is_palindrome(string[1:-1])\n",
    "        else:\n",
    "            return False"
   ]
  },
  {
   "cell_type": "code",
   "execution_count": null,
   "id": "95700265",
   "metadata": {},
   "outputs": [],
   "source": [
    "string1 = \"radar\"\n",
    "print(is_palindrome(string1))  \n",
    "\n"
   ]
  },
  {
   "cell_type": "code",
   "execution_count": null,
   "id": "985f1930",
   "metadata": {},
   "outputs": [],
   "source": [
    "string2=\"Anchal\"\n",
    "print(is_palindrome(string2))"
   ]
  },
  {
   "cell_type": "code",
   "execution_count": null,
   "id": "60df8256",
   "metadata": {},
   "outputs": [],
   "source": [
    "#15. Implement a recursive function to find the greatest common divisor (GCD) of two positive integers.\n",
    "\n",
    "def gcd(a, b):\n",
    "    if b == 0:\n",
    "        return a\n",
    "    else:\n",
    "        return gcd(b, a % b)"
   ]
  },
  {
   "cell_type": "code",
   "execution_count": null,
   "id": "08d6bbd8",
   "metadata": {},
   "outputs": [],
   "source": [
    "result=gcd(3,4)\n",
    "print(result)"
   ]
  },
  {
   "cell_type": "code",
   "execution_count": null,
   "id": "4029fb14",
   "metadata": {},
   "outputs": [],
   "source": []
  }
 ],
 "metadata": {
  "kernelspec": {
   "display_name": "Python 3 (ipykernel)",
   "language": "python",
   "name": "python3"
  },
  "language_info": {
   "codemirror_mode": {
    "name": "ipython",
    "version": 3
   },
   "file_extension": ".py",
   "mimetype": "text/x-python",
   "name": "python",
   "nbconvert_exporter": "python",
   "pygments_lexer": "ipython3",
   "version": "3.10.9"
  }
 },
 "nbformat": 4,
 "nbformat_minor": 5
}
