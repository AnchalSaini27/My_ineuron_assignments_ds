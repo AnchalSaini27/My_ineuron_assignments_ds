{
 "cells": [
  {
   "cell_type": "code",
   "execution_count": 1,
   "id": "5ec055ca",
   "metadata": {},
   "outputs": [
    {
     "name": "stdout",
     "output_type": "stream",
     "text": [
      "['False', 'None', 'True', 'and', 'as', 'assert', 'async', 'await', 'break', 'class', 'continue', 'def', 'del', 'elif', 'else', 'except', 'finally', 'for', 'from', 'global', 'if', 'import', 'in', 'is', 'lambda', 'nonlocal', 'not', 'or', 'pass', 'raise', 'return', 'try', 'while', 'with', 'yield']\n"
     ]
    }
   ],
   "source": [
    "#Q.1. What are keywords in python? Using the keyword library, print all the python keywords.\n",
    "#Ans:-\n",
    "    #Keywords in python are reserved words that can not be used as a veriable name, fuction name, or anyother identifier.\n",
    "import keyword\n",
    "\n",
    "key_words=keyword.kwlist\n",
    "print(key_words)"
   ]
  },
  {
   "cell_type": "code",
   "execution_count": null,
   "id": "8db0c3e6",
   "metadata": {},
   "outputs": [],
   "source": [
    "Q.2. What are the rules to create variables in python?\n",
    "Ans:-\n",
    "\n",
    "A variable name must start with a letter or the underscore character\n",
    "A variable name cannot start with a number\n",
    "A variable name can only contain alpha-numeric characters and underscores (A-z, 0-9, and _ )\n",
    "Variable names are case-sensitive (age, Age and AGE are three different variables)\n",
    "A variable name cannot be any of the Python keywords."
   ]
  },
  {
   "cell_type": "code",
   "execution_count": null,
   "id": "af886cf1",
   "metadata": {},
   "outputs": [],
   "source": [
    "Q.3. What are the standards and conventions followed for the nomenclature of variables in\n",
    "python to improve code readability and maintainability?\n",
    "\n",
    "Ans:-\n",
    "    In Python, there are several widely followed standards and conventions for naming variables to improve code readability and maintainability.\n",
    "    These conventions help make your code more understandable, consistent, and in line with community best practices.\n",
    "<<Variable names should be in lowercase.\n",
    "<<Use underscores to separate words in variable names.\n",
    "<<Do not use Python keywords and built-in function names as variable names.\n",
    "<<Using reserved words can lead to syntax errors or confusion.\n",
    "<<For class names, follow the CamelCase convention.\n",
    "<<Module names should be in lowercase.\n",
    "<<If a module name consists of multiple words, separate them with underscores.\n"
   ]
  },
  {
   "cell_type": "code",
   "execution_count": null,
   "id": "5a600a81",
   "metadata": {},
   "outputs": [],
   "source": [
    "Q.4. What will happen if a keyword is used as a variable name.\n",
    "\n",
    "Ans:-\n",
    "    If we use a keyword as a variable name in Python, it will result in a syntax error."
   ]
  },
  {
   "cell_type": "code",
   "execution_count": null,
   "id": "5b44510a",
   "metadata": {},
   "outputs": [],
   "source": [
    "Q.5. For what purpose def keyword is used?\n",
    "\n",
    "Ans:-\n",
    "    In Python, the def keyword is used to define a function."
   ]
  },
  {
   "cell_type": "code",
   "execution_count": null,
   "id": "1b781013",
   "metadata": {},
   "outputs": [],
   "source": [
    "Q.6. What is the operation of this special character ‘\\’?\n",
    "\n",
    "Ans:-\n",
    "    In Python, the special character \\ is known as the backslash or escape character.\n",
    "    \n",
    "    The backslash can be used as a line continuation character to split long lines of code into multiple lines for improved readability.\n",
    "If a line ends with a backslash, it indicates that the statement continues on the next line."
   ]
  },
  {
   "cell_type": "code",
   "execution_count": null,
   "id": "15f72490",
   "metadata": {},
   "outputs": [],
   "source": [
    "Q.7. Give an example of the following conditions:\n",
    "(i) Homogeneous list\n",
    "(ii) Heterogeneous set\n",
    "(iii) Homogeneous tuple\n",
    "\n",
    "Ans:-\n",
    "\n",
    "(i) Homogeneous List:\n",
    "A homogeneous list is a list in which all elements are of the same data type.\n",
    "(ii) Heterogeneous Set:\n",
    "A heterogeneous set is a set that can contain elements of different data types.\n",
    "(iii) Homogeneous Tuple:\n",
    "A homogeneous tuple is a tuple in which all elements are of the same data type. \n"
   ]
  },
  {
   "cell_type": "code",
   "execution_count": null,
   "id": "45c35268",
   "metadata": {},
   "outputs": [],
   "source": [
    "Q.8. Explain the mutable and immutable data types with proper explanation & examples.\n",
    "\n",
    "Ans:-\n",
    "    In Python, data types can be classified as either mutable or immutable based on whether their values can be changed after they are created.\n",
    "1.Mutable Data Types:\n",
    "Mutable data types allow modifications to their values after creation. This means you can change individual elements or properties without creating a new object. Examples of mutable data types in Python include lists, sets, and dictionaries.\n",
    "Example of a mutable data type (list):\n",
    "my_list = [1, 2, 3]\n",
    "print(my_list)  # Output: [1, 2, 3]\n",
    "\n",
    "my_list[0] = 10\n",
    "print(my_list)  # Output: [10, 2, 3]\n",
    "\n",
    "my_list.append(4)\n",
    "print(my_list)  # Output: [10, 2, 3, 4]\n",
    "\n",
    "2.Immutable Data Types:\n",
    "Immutable data types, once created, cannot be changed. If you need to modify the value of an immutable data type, you must create a new object. Examples of immutable data types in Python include integers, floats, strings, and tuples.\n",
    "Example of an immutable data type (string):\n",
    "    \n",
    "my_string = \"Hello\"\n",
    "print(my_string)  # Output: Hello\n",
    "\n",
    "my_string = my_string + \" World\"\n",
    "print(my_string)  # Output: Hello World"
   ]
  },
  {
   "cell_type": "code",
   "execution_count": 12,
   "id": "10f63b32",
   "metadata": {},
   "outputs": [
    {
     "name": "stdout",
     "output_type": "stream",
     "text": [
      "        * \n",
      "      * * * \n",
      "    * * * * * \n",
      "  * * * * * * * \n",
      "* * * * * * * * * \n"
     ]
    }
   ],
   "source": [
    "#Q.9. Write a code to create the given structure using only for loop.\n",
    "num_rows=5\n",
    "for i in range(num_rows):\n",
    "    for j in range(num_rows-1-i):\n",
    "        print(\" \",end=\" \")\n",
    "    for k in range(2*i+1):\n",
    "        print(\"*\",end=\" \")\n",
    "    print()"
   ]
  },
  {
   "cell_type": "code",
   "execution_count": 13,
   "id": "f3bf9992",
   "metadata": {},
   "outputs": [
    {
     "name": "stdout",
     "output_type": "stream",
     "text": [
      " ||||||||| \n",
      "  |||||||  \n",
      "   |||||   \n",
      "    |||    \n",
      "     |     \n"
     ]
    }
   ],
   "source": [
    "#Q.10. Write a code to create the given structure using while loop.\n",
    "\n",
    "n=9\n",
    "i=0\n",
    "space=\" \"\n",
    "while(n>0):\n",
    "    print(space*i,n*\"|\",space*i)\n",
    "    n=n-2\n",
    "    i=i+1\n"
   ]
  },
  {
   "cell_type": "code",
   "execution_count": null,
   "id": "14f6e705",
   "metadata": {},
   "outputs": [],
   "source": []
  }
 ],
 "metadata": {
  "kernelspec": {
   "display_name": "Python 3 (ipykernel)",
   "language": "python",
   "name": "python3"
  },
  "language_info": {
   "codemirror_mode": {
    "name": "ipython",
    "version": 3
   },
   "file_extension": ".py",
   "mimetype": "text/x-python",
   "name": "python",
   "nbconvert_exporter": "python",
   "pygments_lexer": "ipython3",
   "version": "3.10.9"
  }
 },
 "nbformat": 4,
 "nbformat_minor": 5
}
