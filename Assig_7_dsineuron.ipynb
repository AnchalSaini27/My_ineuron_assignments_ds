{
 "cells": [
  {
   "cell_type": "code",
   "execution_count": 7,
   "id": "fd6a5a4a",
   "metadata": {},
   "outputs": [
    {
     "name": "stdout",
     "output_type": "stream",
     "text": [
      "My first variable is 10 and my second variable is 10.\n",
      "Addition: 10 + 10 = 20\n",
      "Subtraction: 10 - 10 = 0\n",
      "Multiplication: 10 * 10 = 100\n",
      "Division: 10 / 10 = 1.0\n"
     ]
    }
   ],
   "source": [
    "#Q.1. Create two int type variables, apply addition, subtraction, division and multiplications\n",
    "#and store the results in variables. Then print the data in the following format by calling the\n",
    "#variables:\n",
    "#First variable is __ & second variable is __.\n",
    "#Addition: __ + __ = __\n",
    "#Subtraction: __ - __ = __\n",
    "#Multiplication: __ * __ = __\n",
    "#Division: __ / __ = _\n",
    "    \n",
    "myfirst_var = 10\n",
    "mysecond_var = 10\n",
    "\n",
    "addition = myfirst_var + mysecond_var\n",
    "subtraction = myfirst_var - mysecond_var\n",
    "multiplication = myfirst_var * mysecond_var\n",
    "division = myfirst_var / mysecond_var\n",
    "\n",
    "print(f\"My first variable is {myfirst_var} and my second variable is {mysecond_var}.\")\n",
    "print(f\"Addition: {myfirst_var} + {mysecond_var} = {addition}\")\n",
    "print(f\"Subtraction: {myfirst_var} - {mysecond_var} = {subtraction}\")\n",
    "print(f\"Multiplication: {myfirst_var} * {mysecond_var} = {multiplication}\")\n",
    "print(f\"Division: {myfirst_var} / {mysecond_var} = {division}\")"
   ]
  },
  {
   "cell_type": "code",
   "execution_count": null,
   "id": "ad63198a",
   "metadata": {},
   "outputs": [],
   "source": [
    "Q.2. What is the difference between the following operators:\n",
    "(i) ‘/’ & ‘//’\n",
    "(ii) ‘**’ & ‘^’\n",
    "\n",
    "Ans:-\n",
    "    (i) The '/' operator is used for division in Python. It performs normal division and returns a float result. For example, 10 / 3 would give the result 3.33333.... On the other hand,\n",
    "        The '//' operator is used for floor division, also known as integer division. It divides the two operands and returns the largest integer that is less than or equal to the division result. For example, 10 // 3 would give the result 3.\n",
    "    (ii) The '**' operator is used for exponentiation in Python. It raises the left operand to the power of the right operand. For example, 2 ** 3 would give the result 8.\n",
    "         The '^' operator,  it is the bitwise XOR operator, which performs the bitwise XOR operation on the binary representations of the operands"
   ]
  },
  {
   "cell_type": "code",
   "execution_count": null,
   "id": "0f7d0181",
   "metadata": {},
   "outputs": [],
   "source": [
    "Q.3. List the logical operators.\n",
    "Ans:-\n",
    "    \n",
    "The logical operators in Python are:\n",
    "\n",
    "and: The and operator returns True if both operands are True, and False otherwise.\n",
    "\n",
    "or: The or operator returns True if at least one of the operands is True, and False otherwise.\n",
    "\n",
    "not: The not operator returns the opposite boolean value of the operand. If the operand is True, it returns False, and if the operand is False, it returns True."
   ]
  },
  {
   "cell_type": "code",
   "execution_count": null,
   "id": "9372ebf0",
   "metadata": {},
   "outputs": [],
   "source": [
    ".4. Explain right shift operator and left shift operator with examples.\n",
    "Ans:-\n",
    "    The right shift (>>) operator takes two operands: the number to be shifted and the number of positions to shift by. \n",
    "        It shifts the bits of the number to the right by the specified number of positions, discarding the rightmost bits and filling the leftmost bits with zeros.\n",
    "        num = 16  # Binary representation: 10000\n",
    "\n",
    "# Right shift by 2 positions\n",
    "result = num >> 2  # Binary representation: 100\n",
    "\n",
    "\n",
    "The left shift (<<) operator also takes two operands: the number to be shifted and the number of positions to shift by. It shifts the bits of the number to the left by the specified number of positions, filling the rightmost bits with zeros.\n",
    "    \n",
    "    num = 3  # Binary representation: 11\n",
    "\n",
    "# Left shift by 2 positions\n",
    "result = num << 2  # Binary representation: 1100"
   ]
  },
  {
   "cell_type": "code",
   "execution_count": 8,
   "id": "6a404b7b",
   "metadata": {},
   "outputs": [
    {
     "name": "stdout",
     "output_type": "stream",
     "text": [
      "10 is present in the list.\n"
     ]
    }
   ],
   "source": [
    "#Q.5. Create a list containing int type data of length 15. Then write a code to check if 10 is\n",
    "#present in the list or not.\n",
    "\n",
    "my_list = [2, 5, 8, 10, 13, 17, 20, 22, 25, 30, 33, 36, 40, 42, 45]\n",
    "\n",
    "# Check if 10 is present in the list\n",
    "if 10 in my_list:\n",
    "    print(\"10 is present in the list.\")\n",
    "else:\n",
    "    print(\"10 is not present in the list.\")"
   ]
  },
  {
   "cell_type": "code",
   "execution_count": null,
   "id": "c9fe7f94",
   "metadata": {},
   "outputs": [],
   "source": []
  }
 ],
 "metadata": {
  "kernelspec": {
   "display_name": "Python 3 (ipykernel)",
   "language": "python",
   "name": "python3"
  },
  "language_info": {
   "codemirror_mode": {
    "name": "ipython",
    "version": 3
   },
   "file_extension": ".py",
   "mimetype": "text/x-python",
   "name": "python",
   "nbconvert_exporter": "python",
   "pygments_lexer": "ipython3",
   "version": "3.10.9"
  }
 },
 "nbformat": 4,
 "nbformat_minor": 5
}
