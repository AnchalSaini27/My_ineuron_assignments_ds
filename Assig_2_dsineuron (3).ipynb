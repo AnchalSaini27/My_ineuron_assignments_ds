{
 "cells": [
  {
   "cell_type": "code",
   "execution_count": null,
   "id": "3c8ad85a-27d5-4c8a-b753-1d623fb2bc2b",
   "metadata": {},
   "outputs": [],
   "source": [
    "1.What are the two values of the Boolean data type? How do you write them?\n",
    "\n",
    "Ans:-\n",
    "Boolean operators are logical operators that are used to compare values and return a true or false value.\n",
    "The boolean value can be of two types  either True or False.\n",
    "We write them using capital T and F, with the rest of the word in lowercase."
   ]
  },
  {
   "cell_type": "code",
   "execution_count": null,
   "id": "1ef633a6-ac4d-4ac3-b73e-6b56da1382d9",
   "metadata": {},
   "outputs": [],
   "source": [
    "2. What are the three different types of Boolean operators?\n",
    "\n",
    "Ans:-\n",
    "There are 3 types of Boolean operators:- AND, OR and NOT.\n",
    "\n"
   ]
  },
  {
   "cell_type": "code",
   "execution_count": null,
   "id": "739804cd-e204-4a98-9690-20a6112bbeeb",
   "metadata": {},
   "outputs": [],
   "source": [
    "3. Make a list of each Boolean operator's truth tables (i.e. every possible combination of Boolean values for the operator and what it evaluate ).\n",
    "\n",
    "\n",
    "Ans:- List of each Boolean operator-\n",
    "\n",
    "        AND\n",
    "True and True is True.\n",
    "\n",
    "True and False is False.\n",
    "\n",
    "False and True is False.\n",
    "\n",
    "False and False is False.\n",
    "\n",
    "        OR\n",
    "True or True is True.\n",
    "\n",
    "True or False is True.\n",
    "\n",
    "False or True is True.\n",
    "\n",
    "False or False is False.\n",
    "\n",
    "        NOT\n",
    " \n",
    "not True is False.\n",
    "\n",
    "not False is True.\n"
   ]
  },
  {
   "cell_type": "code",
   "execution_count": null,
   "id": "a1ec53e1-434e-4898-8aa8-c99286966483",
   "metadata": {},
   "outputs": [],
   "source": [
    "4. What are the values of the following expressions?\n",
    "(5 > 4) and (3 == 5)\n",
    "not (5 > 4)\n",
    "(5 > 4) or (3 == 5)\n",
    "not ((5 > 4) or (3 == 5))\n",
    "(True and True) and (True == False)\n",
    "(not False) or (not True)\n",
    "\n",
    "\n",
    "Ans:-\n",
    "\n",
    "False\n",
    "False\n",
    "True\n",
    "False\n",
    "False\n",
    "True"
   ]
  },
  {
   "cell_type": "code",
   "execution_count": null,
   "id": "1288ae1e-84c3-487f-9d20-abf6f80e688f",
   "metadata": {},
   "outputs": [],
   "source": [
    "5. What are the six comparison operators?\n",
    "\n",
    "Ans:-\n",
    " Six comparison operators are-\n",
    "    \n",
    "  ==   equal to\n",
    "  !=   not equal\n",
    "  <    less than\n",
    "  >    greater than\n",
    "  <=   less than or equal to\n",
    "  >=   greater than or equal to"
   ]
  },
  {
   "cell_type": "code",
   "execution_count": null,
   "id": "3224faff-2041-4b27-9a09-1166df8662d8",
   "metadata": {},
   "outputs": [],
   "source": [
    "6. How do you tell the difference between the equal to and assignment operators?Describe a condition and when you would use one.\n",
    "\n",
    "Ans:-\n",
    "\n",
    "== is the equal to operator that compares two values and evaluates to a Boolean, \n",
    "while = is the assignment operator that stores a value in a variable."
   ]
  },
  {
   "cell_type": "code",
   "execution_count": null,
   "id": "bbc78170-06e9-4a3d-8659-5097b6d52c22",
   "metadata": {},
   "outputs": [],
   "source": [
    "7. Identify the three blocks in this code:\n",
    "spam = 0\n",
    "if spam == 10:\n",
    "    print('eggs')\n",
    "if spam > 5:\n",
    "    print('bacon')\n",
    "else:\n",
    "    print('ham')\n",
    "    print('spam')\n",
    "    print('spam')\n",
    "\n",
    "Ans:- Python uses indentation to indicate a block, so total 3 blocks are in this programme.\n",
    "     1st is first if statement.\n",
    "     2nd is seconf if statement.\n",
    "     3rd is else statement."
   ]
  },
  {
   "cell_type": "code",
   "execution_count": null,
   "id": "69cf73ad-3ae6-44d0-be3c-7cc02ce051f1",
   "metadata": {},
   "outputs": [],
   "source": [
    "\n",
    "8. Write code that prints Hello if 1 is stored in spam, prints Howdy if 2 is stored in spam, and prints Greetings! if anything else is stored in spam.\n",
    "\n",
    "Ans:-\n",
    "\n",
    "\n",
    "spam = input ()\n",
    "if spam == '1': \n",
    "    print ('Hello') \n",
    "elif spam == '2':\n",
    "    print ('Howdy') \n",
    "else: \n",
    "    print ('Greetings')"
   ]
  },
  {
   "cell_type": "code",
   "execution_count": null,
   "id": "b33121fd-86a2-4816-a32b-ac102655f573",
   "metadata": {},
   "outputs": [],
   "source": [
    "9.If your programme is stuck in an endless loop, what keys you’ll press?\n",
    "\n",
    "Ans:- \n",
    "    If my programme will stuck in endless loop, i will press ctrl+C.\n"
   ]
  },
  {
   "cell_type": "code",
   "execution_count": null,
   "id": "1131579f-6da6-4111-b8d2-4ca3ab9648ed",
   "metadata": {},
   "outputs": [],
   "source": [
    "10. How can you tell the difference between break and continue?\n",
    "\n",
    "Ans:-\n",
    "The break statement will move the execution outside and just after a loop. \n",
    "The continue statement will move the execution to the start of the loop."
   ]
  },
  {
   "cell_type": "code",
   "execution_count": null,
   "id": "81674ea2-e2e0-406c-99d0-0a84625df4f3",
   "metadata": {},
   "outputs": [],
   "source": [
    "11. In a for loop, what is the difference between range(10), range(0, 10), and range(0, 10, 1)?\n",
    "Ans:-\n",
    "There is no diffrence between range(10), range(0, 10), and range(0, 10, 1), They all do same thing.\n",
    "     range(10) call ranges from 0 up to (but not including) 10.\n",
    "     range(0, 10) tells the loop to start at 0.\n",
    "     range(0, 10, 1) tells the loop to increase the variable by 1 on each iteration.\n",
    "    "
   ]
  },
  {
   "cell_type": "code",
   "execution_count": null,
   "id": "963fc247-5181-481c-aca5-0d99e7a41ff4",
   "metadata": {},
   "outputs": [],
   "source": [
    "12. Write a short program that prints the numbers 1 to 10 using a for loop. Then write an equivalent program that prints the numbers 1 to 10 using a while loop.\n",
    "\n",
    "Ans:- \n",
    "using for loop-\n",
    "\n",
    "for i in range(1,11):\n",
    "    print (i)\n",
    "    \n",
    "using while loop-\n",
    "\n",
    "a=1\n",
    "while a < 11:\n",
    "    print(a)\n",
    "    a=a+1"
   ]
  },
  {
   "cell_type": "code",
   "execution_count": null,
   "id": "876917cb-066a-4829-8b41-39043a6fafb1",
   "metadata": {},
   "outputs": [],
   "source": [
    "13. If you had a function named bacon() inside a module named spam, how would you call it after importing spam?\n",
    "Ans:-\n",
    "This function can be called with spam.bacon().\n"
   ]
  }
 ],
 "metadata": {
  "kernelspec": {
   "display_name": "Python 3 (ipykernel)",
   "language": "python",
   "name": "python3"
  },
  "language_info": {
   "codemirror_mode": {
    "name": "ipython",
    "version": 3
   },
   "file_extension": ".py",
   "mimetype": "text/x-python",
   "name": "python",
   "nbconvert_exporter": "python",
   "pygments_lexer": "ipython3",
   "version": "3.10.6"
  }
 },
 "nbformat": 4,
 "nbformat_minor": 5
}
