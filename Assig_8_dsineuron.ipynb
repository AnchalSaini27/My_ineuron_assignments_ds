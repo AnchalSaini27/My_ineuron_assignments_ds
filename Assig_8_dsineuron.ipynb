{
 "cells": [
  {
   "cell_type": "code",
   "execution_count": null,
   "id": "5074d6c4",
   "metadata": {},
   "outputs": [],
   "source": [
    "1.In Python, what is the difference between a built-in function and a user-defined function? Provide an\n",
    "example of each.\n",
    "\n",
    "Ans:-\n",
    "    Functions that are readily available within the python library are known as built-in functions. \n",
    "    There are many built-in functions available. Print (), input (), list (), dict (), print() etc.\n",
    "    example-\n",
    "     print(\"hello world\")\n",
    "        \n",
    "        \n",
    "    User-defined Functions Functions that are created and defined by the user are known as user defined functions.\n",
    "    Example-\n",
    "     def sum(a,b):\n",
    "            return a+b\n",
    "    \n",
    "    result=sum(4,5)\n",
    "    print(result)   #output 9\n",
    "    "
   ]
  },
  {
   "cell_type": "code",
   "execution_count": null,
   "id": "e2d38011",
   "metadata": {},
   "outputs": [],
   "source": [
    "2. How can you pass arguments to a function in Python? Explain the difference between positional\n",
    "arguments and keyword arguments.\n",
    "\n",
    "Ans:-\n",
    "To pass agrgument to a fuction in python,we use positional arguments and keyword arguments-\n",
    "1.Positional arguments:-Positional arguments are passed to a function based on their position or order. \n",
    "    The function's parameters are defined in a specific order, and when calling the function, the arguments are matched with the parameters based on their position.\n",
    "    The number of arguments passed must match the number of parameters in the function definition.\n",
    "    \n",
    "2.Keyword arguments:-Keyword arguments are passed to a function using the name of the parameter along with the corresponding value. \n",
    "    Instead of relying on the order, keyword arguments explicitly specify which parameter each argument is intended for.\n",
    "    This allows you to pass arguments in any order, making the function call more readable and flexible."
   ]
  },
  {
   "cell_type": "code",
   "execution_count": null,
   "id": "5d2ee2fe",
   "metadata": {},
   "outputs": [],
   "source": [
    "3. What is the purpose of the return statement in a function? Can a function have multiple return\n",
    "statements? Explain with an example.\n",
    "\n",
    "Ans:-\n",
    "    The purpose of the return statement in a function is to specify the value or values that the function should produce as output. \n",
    "   A function can have multiple return statements, but only one return statement is executed during the function's execution. \n",
    "   Once a return statement is encountered, the function terminates and returns the specified value. "
   ]
  },
  {
   "cell_type": "code",
   "execution_count": null,
   "id": "fb985437",
   "metadata": {},
   "outputs": [],
   "source": [
    "4. What are lambda functions in Python? How are they different from regular functions? Provide an\n",
    "example where a lambda function can be useful.\n",
    "\n",
    "Ans:-\n",
    "    Python lambda functions are anonymous functions, meaning they have no name123. \n",
    "    They are defined with the lambda keyword, followed by any number of arguments and one expression1234. \n",
    "    They are useful for single line functions that do not need a name, such as filtering lists, converting string cases, or multiplying a number15. \n",
    "    They can be used whenever function arguments are necessary2. Unlike normal functions, which are defined with the def keyword, they cannot have more than one line.\n",
    "    \n",
    "    numbers = [1, 2, 3, 4, 5]\n",
    "\n",
    "x = lambda a, b, c : a + b + c\n",
    "print(x(5, 6, 2))\n",
    "    \n",
    "    "
   ]
  },
  {
   "cell_type": "code",
   "execution_count": null,
   "id": "3da5e838",
   "metadata": {},
   "outputs": [],
   "source": [
    "5. How does the concept of \"scope\" apply to functions in Python? Explain the difference between local\n",
    "scope and global scope.\n",
    "Ans:- scope-variables can only reach the area in which they are defined, which is called scope. \n",
    "1.Local Scope:\n",
    "Local scope refers to variables that are defined within a specific block or function. These variables are only accessible within the block or function where they are defined. \n",
    "They are known as \"local variables\" and exist only during the execution of that specific block or function.\n",
    "def my_function():\n",
    "    x = 10\n",
    "    print(x)\n",
    "\n",
    "my_function()  # Output: 10\n",
    "print(x)      # Error: NameError: name 'x' is not defined\n",
    "In this example, the variable x is defined within the my_function() block. It is considered a local variable and can only be accessed within the function. \n",
    "Outside the function, attempting to access the variable x will result in a NameError.\n",
    "\n",
    "\n",
    "\n",
    "2.Global Scope:\n",
    "Global scope refers to variables that are defined outside of any function or block. \n",
    "These variables are accessible throughout the program, including within functions or blocks. \n",
    "They are known as \"global variables\" and can be accessed and modified from anywhere in the program.\n",
    "x = 10\n",
    "\n",
    "def my_function():\n",
    "    print(x)\n",
    "\n",
    "my_function()  # Output: 10\n",
    "print(x)      # Output: 10\n",
    "\n",
    "In this example, the variable x is defined outside the function my_function(). \n",
    "It is considered a global variable and can be accessed both inside and outside the function. "
   ]
  },
  {
   "cell_type": "code",
   "execution_count": null,
   "id": "a9895cae",
   "metadata": {},
   "outputs": [],
   "source": [
    "6. How can you use the \"return\" statement in a Python function to return multiple values?\n",
    "Ans:-\n",
    "    In Python, we can return multiple values by  separating them with commas in the return statement.\n",
    "def test():\n",
    "    return 'abc', 100"
   ]
  },
  {
   "cell_type": "code",
   "execution_count": null,
   "id": "9daf2842",
   "metadata": {},
   "outputs": [],
   "source": [
    "7. What is the difference between the \"pass by value\" and \"pass by reference\" concepts when it\n",
    "comes to function arguments in Python?\n",
    "\n",
    "Ans:-\n",
    "    The main difference between pass by value and pass by reference is that, in a pass by value, the parameter value copies to another variable while, in a pass by reference, the actual parameter passes to the function."
   ]
  },
  {
   "cell_type": "code",
   "execution_count": 7,
   "id": "2b9acf9f",
   "metadata": {},
   "outputs": [],
   "source": [
    "#8. Create a function that can intake integer or decimal value and do following operations:\n",
    "#a. Logarithmic function (log x)\n",
    "#b. Exponential function (exp(x))\n",
    "#c. Power function with base 2 (2)X\n",
    "#d. Square root\n",
    "\n",
    "import math\n",
    "def perform_operations(x):\n",
    "    result = {}\n",
    "\n",
    "    # Logarithmic function (log x)\n",
    "    result['logarithm'] = math.log(x)\n",
    "\n",
    "    # Exponential function (exp(x))\n",
    "    result['exponential'] = math.exp(x)\n",
    "\n",
    "    # Power function with base 2 (2^x)\n",
    "    result['power'] = math.pow(2, x)\n",
    "\n",
    "    # Square root\n",
    "    result['square_root'] = math.sqrt(x)\n",
    "\n",
    "    return result"
   ]
  },
  {
   "cell_type": "code",
   "execution_count": 9,
   "id": "db6c3e67",
   "metadata": {},
   "outputs": [
    {
     "name": "stdout",
     "output_type": "stream",
     "text": [
      "{'logarithm': 1.6094379124341003, 'exponential': 148.4131591025766, 'power': 32.0, 'square_root': 2.23606797749979}\n"
     ]
    }
   ],
   "source": [
    "operation_result=perform_operations(5)\n",
    "print(operation_result)"
   ]
  },
  {
   "cell_type": "code",
   "execution_count": 11,
   "id": "816015e9",
   "metadata": {},
   "outputs": [],
   "source": [
    "#9. Create a function that takes a full name as an argument and returns first name and last name.\n",
    "\n",
    "def full_info(fullname):\n",
    "    name=fullname.split()\n",
    "    first_name=name[0]\n",
    "    last_name=name[-1]\n",
    "    return first_name,last_name\n",
    "    "
   ]
  },
  {
   "cell_type": "code",
   "execution_count": 12,
   "id": "7bea2b0d",
   "metadata": {},
   "outputs": [],
   "source": [
    "result=full_info(\"anchal saini routh\")"
   ]
  },
  {
   "cell_type": "code",
   "execution_count": 13,
   "id": "7d675ca2",
   "metadata": {},
   "outputs": [
    {
     "data": {
      "text/plain": [
       "('anchal', 'routh')"
      ]
     },
     "execution_count": 13,
     "metadata": {},
     "output_type": "execute_result"
    }
   ],
   "source": [
    "result"
   ]
  },
  {
   "cell_type": "code",
   "execution_count": null,
   "id": "514c90a1",
   "metadata": {},
   "outputs": [],
   "source": []
  }
 ],
 "metadata": {
  "kernelspec": {
   "display_name": "Python 3 (ipykernel)",
   "language": "python",
   "name": "python3"
  },
  "language_info": {
   "codemirror_mode": {
    "name": "ipython",
    "version": 3
   },
   "file_extension": ".py",
   "mimetype": "text/x-python",
   "name": "python",
   "nbconvert_exporter": "python",
   "pygments_lexer": "ipython3",
   "version": "3.10.9"
  }
 },
 "nbformat": 4,
 "nbformat_minor": 5
}
