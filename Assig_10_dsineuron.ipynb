{
 "cells": [
  {
   "cell_type": "code",
   "execution_count": null,
   "id": "83b2b65a",
   "metadata": {},
   "outputs": [],
   "source": [
    "1. Explain what inheritance is in object-oriented programming and why it is used.\n",
    "\n",
    "Ans:-\n",
    "    \n",
    "    Inheritance is a fundamental concept in object-oriented programming (OOP) that allows one class to inherit the properties and behaviors (methods and fields) of another class. It enables the creation of a new class (called a subclass or derived class) that is based on an existing class (called a superclass or base class). Inheritance forms a hierarchical relationship between classes, allowing them to share and extend functionality.\n",
    "\n",
    "Here's why inheritance is used in OOP:\n",
    "\n",
    "Code Reusability: Inheritance promotes code reusability by allowing you to define common attributes and behaviors in a base class and then extend or specialize those attributes and behaviors in subclasses. This avoids redundant code and leads to more maintainable and modular codebases.\n",
    "\n",
    "Hierarchical Structure: Inheritance creates a hierarchical structure among classes, where subclasses inherit attributes and behaviors from their parent classes. This hierarchy reflects the relationships between real-world entities or concepts, making the code more intuitive and closely aligned with the problem domain.\n",
    "\n",
    "Polymorphism: Inheritance is closely related to polymorphism, another key OOP concept. Polymorphism allows objects of different classes to be treated as objects of a common superclass. This enables dynamic behavior and method invocation based on the actual type of the object at runtime. In other words, you can write code that works with a generic superclass type and automatically handles different specialized subclasses.\n",
    "\n",
    "Extensibility: Inheritance provides a way to extend existing classes without modifying their code. You can add new attributes and behaviors to subclasses while still retaining the inherited features from the parent class. This helps in adapting the software to changing requirements without affecting existing functionality.\n",
    "\n",
    "Organizing and Modularity: By organizing classes into a hierarchy, inheritance improves the organization and modularity of the codebase. It allows you to group related classes together and manage them as a coherent unit, leading to better code organization and easier maintenance.\n",
    "\n",
    "Method Overriding: Subclasses can override methods inherited from their parent classes to provide custom implementations. This is essential for tailoring the behavior of a subclass to its specific requirements while maintaining the same method signatures.\n",
    "    "
   ]
  },
  {
   "cell_type": "code",
   "execution_count": null,
   "id": "8efa8143",
   "metadata": {},
   "outputs": [],
   "source": [
    "2. Discuss the concept of single inheritance and multiple inheritance, highlighting their\n",
    "differences and advantages.\n",
    "\n",
    "Ans:-\n",
    "    In the case of single inheritance, the derived class performs the inheritance of a single base class. In the case of multiple inheritance, the derived class can acquire multiple base classes. \n",
    "    The derived classes can utilize the features that belong to a single base class.\n",
    "    \n",
    "    Advantages of Single Inheritance:\n",
    "\n",
    "Simplicity: Single inheritance simplifies the class hierarchy, making it easier to understand and manage relationships between classes.\n",
    "Avoiding Diamond Problem: The Diamond Problem is a challenge that arises in multiple inheritance when a class inherits from two or more classes that have a common superclass. This can lead to confusion and ambiguity in method and attribute resolution. Single inheritance eliminates the Diamond Problem altogether.\n",
    "Multiple Inheritance:\n",
    "In multiple inheritance, a class can inherit properties and behaviors from more than one superclass. This approach allows for greater code reuse by enabling a class to inherit from multiple sources. However, it also introduces complexities related to method and attribute resolution when multiple parent classes define the same methods or attributes.\n",
    "\n",
    "Advantages of Multiple Inheritance:\n",
    "\n",
    "Code Reusability: Multiple inheritance allows a class to inherit features from multiple parent classes, facilitating a higher degree of code reuse.\n",
    "Mixins and Interfaces: Multiple inheritance can be used to create mixins or interfaces. Mixins are classes that provide a specific set of behaviors that can be added to multiple classes, enhancing modularity.\n",
    "Rich Class Design: Multiple inheritance can lead to more feature-rich class designs by combining attributes and behaviors from different sources.\n",
    "Differences:\n",
    "\n",
    "Number of Superclasses: The primary difference between single and multiple inheritance is the number of superclasses a class can inherit from. Single inheritance allows only one superclass, while multiple inheritance allows more than one.\n",
    "\n",
    "Ambiguity and Complexity: Multiple inheritance can lead to ambiguity when parent classes define the same methods or attributes. This requires careful method resolution mechanisms to determine which method is called. Single inheritance avoids such ambiguity by allowing only one direct parent.\n",
    "\n",
    "Diamond Problem: As mentioned earlier, the Diamond Problem is specific to multiple inheritance, where conflicts arise due to shared ancestor classes. Single inheritance inherently avoids the Diamond Problem.\n",
    "    \n",
    "    \n",
    "\n"
   ]
  },
  {
   "cell_type": "code",
   "execution_count": null,
   "id": "fec41c52",
   "metadata": {},
   "outputs": [],
   "source": [
    "3. Explain the terms \"base class\" and \"derived class\" in the context of inheritance.\n",
    "Ans:-\n",
    "    class Animal:  # Base class\n",
    "    def speak(self):\n",
    "        pass\n",
    "\n",
    "class Dog(Animal):  # Derived class\n",
    "    def speak(self):\n",
    "        return \"Woof!\"\n",
    "\n",
    "class Cat(Animal):  # Derived class\n",
    "    def speak(self):\n",
    "        return \"Meow!\"\n",
    "    \n",
    "In this example, Animal is the base class with a method speak(), and Dog and Cat are derived classes that inherit the speak() method.\n",
    "Each derived class provides its own implementation of the speak() method."
   ]
  },
  {
   "cell_type": "code",
   "execution_count": null,
   "id": "841cace4",
   "metadata": {},
   "outputs": [],
   "source": [
    "4. What is the significance of the \"protected\" access modifier in inheritance? How does\n",
    "it differ from \"private\" and \"public\" modifiers?\n",
    "\n",
    "Ans:-\n",
    "    \n",
    "In object-oriented programming (OOP), access modifiers are keywords that control the visibility and accessibility of class members (attributes and methods) in different parts of the code. The three main access modifiers are \"private,\" \"protected,\" and \"public.\" \n",
    "Each modifier has a specific role in determining which parts of the code can access class members. The significance of the \"protected\" access modifier in inheritance is related to how it balances encapsulation and code reusability.\n",
    "\n",
    "1. Private Access Modifier:\n",
    "Members marked as \"private\" are only accessible within the same class where they are declared.\n",
    "They are not accessible in derived classes, meaning that subclasses cannot directly access or override private members of the parent class.\n",
    "Private members are used for internal implementation details that should not be exposed or modified from outside the class.\n",
    "\n",
    "\n",
    "2. Protected Access Modifier:\n",
    "Members marked as \"protected\" are accessible within the same class and its subclasses (derived classes).\n",
    "Protected members can be inherited by subclasses, allowing them to access or override those members.\n",
    "This modifier strikes a balance between encapsulation and reusability. It allows derived classes to build upon the behavior of the base class while still maintaining some level of control over access.\n",
    "\n",
    "\n",
    "3. Public Access Modifier:\n",
    "Members marked as \"public\" are accessible from anywhere in the program, both within and outside the class.\n",
    "Public members are freely accessible and modifiable, which can lead to more flexible and customizable behavior.\n",
    "However, exposing too many details as public members can lead to issues in terms of encapsulation and maintaining the integrity of the class."
   ]
  },
  {
   "cell_type": "code",
   "execution_count": null,
   "id": "f76d0436",
   "metadata": {},
   "outputs": [],
   "source": [
    "\n",
    "\n",
    "5. What is the purpose of the \"super\" keyword in inheritance? Provide an example.\n",
    "Ans:-\n",
    "    \n",
    "The \"super\" keyword is used in object-oriented programming to refer to the immediate parent class of a subclass. \n",
    "It is primarily used to access and call methods or constructors defined in the parent class, allowing for code reuse and customization in the context of inheritance.\n",
    "\n",
    "The \"super\" keyword is especially useful when you want to extend or override methods from the parent class while still retaining some of their original functionality. \n",
    "It provides a way to access the methods and attributes of the parent class without ambiguity, even if the subclass has overridden those methods"
   ]
  },
  {
   "cell_type": "raw",
   "id": "b6c65cfe",
   "metadata": {},
   "source": [
    "6. Create a base class called \"Vehicle\" with attributes like \"make\", \"model\", and \"year\".\n",
    "Then, create a derived class called \"Car\" that inherits from \"Vehicle\" and adds an\n",
    "attribute called \"fuel_type\". Implement appropriate methods in both classes.\n"
   ]
  },
  {
   "cell_type": "code",
   "execution_count": 1,
   "id": "98c9fa1e",
   "metadata": {},
   "outputs": [],
   "source": [
    "class vehicle:\n",
    "    def __init__(self,make,model,year):\n",
    "        self.make=make\n",
    "        self.model=model\n",
    "        self.year=year\n",
    "        \n",
    "class car(vehicle):\n",
    "    def __init__(self,make,model,year,fuel_type):\n",
    "        super().__init__(make,model,year)\n",
    "        self.fuel_type=fuel_type\n",
    "        \n",
    "    def display_info(self):\n",
    "        print(f\"This car made by {self.make}.\")\n",
    "        print(f\"This car model is {self.model}.\")\n",
    "        print(f\"This car made year is {self.year}.\")\n",
    "        print(f\"This car fuel type is {self.fuel_type}.\")"
   ]
  },
  {
   "cell_type": "code",
   "execution_count": 2,
   "id": "0f635a55",
   "metadata": {},
   "outputs": [],
   "source": [
    "c=car(\"ford\",\"figo\",2010,\"petrol\")"
   ]
  },
  {
   "cell_type": "code",
   "execution_count": 3,
   "id": "9a10270e",
   "metadata": {
    "scrolled": true
   },
   "outputs": [
    {
     "name": "stdout",
     "output_type": "stream",
     "text": [
      "This car made by ford.\n",
      "This car model is figo.\n",
      "This car made year is 2010.\n",
      "This car fuel type is petrol.\n"
     ]
    }
   ],
   "source": [
    "c.display_info()"
   ]
  },
  {
   "cell_type": "raw",
   "id": "6d15d699",
   "metadata": {},
   "source": [
    "7. Create a base class called \"Employee\" with attributes like \"name\" and \"salary.\"\n",
    "Derive two classes, \"Manager\" and \"Developer,\" from \"Employee.\" Add an additional\n",
    "attribute called \"department\" for the \"Manager\" class and \"programming_language\"\n",
    "for the \"Developer\" class."
   ]
  },
  {
   "cell_type": "code",
   "execution_count": 4,
   "id": "e4c320d2",
   "metadata": {},
   "outputs": [],
   "source": [
    "class Employee:\n",
    "    def __init__(self,name,salary):\n",
    "        self.name=name\n",
    "        self.salary=salary\n",
    "    \n",
    "    \n",
    "class Manager(Employee):\n",
    "    def __init__(self,name,salary,department):\n",
    "        super().__init__(name,salary)\n",
    "        self.department=department\n",
    "        \n",
    "    def manager_info(self):\n",
    "        print(f\"Employee name is {self.name}.\")\n",
    "        print(f\"{self.name} salary is {self.salary}.\")\n",
    "        print(f\"{self.name}  is from {self.department} department.\")\n",
    "        \n",
    "        \n",
    "        \n",
    "class Developer(Employee):\n",
    "    def __init__(self,name,salary,programming_lang):\n",
    "        super().__init__(name,salary)\n",
    "        self.programming_lang=programming_lang\n",
    "        \n",
    "        \n",
    "    def developer_info(self):\n",
    "        print(f\"Employee name is {self.name}.\")\n",
    "        print(f\"{self.name} salary is {self.salary}.\")\n",
    "        print(f\"{self.name} knows {self.programming_lang} language.\")\n",
    "     \n",
    "        "
   ]
  },
  {
   "cell_type": "code",
   "execution_count": 5,
   "id": "aa79e4f2",
   "metadata": {},
   "outputs": [],
   "source": [
    "mang=Manager(\"siva\",15000,\"advertising\")"
   ]
  },
  {
   "cell_type": "code",
   "execution_count": 6,
   "id": "1d6a0007",
   "metadata": {},
   "outputs": [
    {
     "name": "stdout",
     "output_type": "stream",
     "text": [
      "Employee name is siva.\n",
      "siva salary is 15000.\n",
      "siva  is from advertising department.\n"
     ]
    }
   ],
   "source": [
    "mang.manager_info()"
   ]
  },
  {
   "cell_type": "code",
   "execution_count": 7,
   "id": "6ef8af33",
   "metadata": {},
   "outputs": [],
   "source": [
    "dev=Developer(\"Anchal\",30000,\"python\")\n"
   ]
  },
  {
   "cell_type": "code",
   "execution_count": 8,
   "id": "e0308b31",
   "metadata": {
    "scrolled": true
   },
   "outputs": [
    {
     "name": "stdout",
     "output_type": "stream",
     "text": [
      "Employee name is Anchal.\n",
      "Anchal salary is 30000.\n",
      "Anchal knows python language.\n"
     ]
    }
   ],
   "source": [
    "dev.developer_info()"
   ]
  },
  {
   "cell_type": "raw",
   "id": "d15a068c",
   "metadata": {},
   "source": [
    "8. Design a base class called \"Shape\" with attributes like \"colour\" and \"border_width.\"\n",
    "Create derived classes, \"Rectangle\" and \"Circle,\" that inherit from \"Shape\" and add\n",
    "specific attributes like \"length\" and \"width\" for the \"Rectangle\" class and \"radius\" for\n",
    "the \"Circle\" class."
   ]
  },
  {
   "cell_type": "code",
   "execution_count": 35,
   "id": "0a36ce03",
   "metadata": {},
   "outputs": [],
   "source": [
    "class Shape:\n",
    "    def __init__(self,colour,border_width):\n",
    "        self.colour=colour\n",
    "        self.border_width=border_width\n",
    "        \n",
    "        \n",
    "class Rectangle(Shape):\n",
    "    def __init__(self,colour,border_width,length,width):\n",
    "        super().__init__(colour,border_width)\n",
    "        self.length=length\n",
    "        self.width=width\n",
    "        \n",
    "        \n",
    "    def rectangle_info(self):\n",
    "        print(f\"Rectangle colour is: {self.colour}.\")\n",
    "        print(f\"border_widgth is: {self.border_width}.\")\n",
    "        print(f\"Rectangle length is: { self.length}.\")\n",
    "        print(f\"Rectangle widgth is :{self.width}.\")\n",
    "        \n",
    "        \n",
    "        \n",
    "class Circle(Shape):\n",
    "    def __init__(self,colour,border_width,redius):\n",
    "        super().__init__(colour,border_width)\n",
    "        self.redius=redius\n",
    "        \n",
    "        \n",
    "        \n",
    "    def circle_info(self):\n",
    "        print(f\"circle colour is: {self.colour}.\")\n",
    "        print(f\"Border width is: {self.border_width}.\")\n",
    "        print(f\"Circle redius is: {self.redius}.\")"
   ]
  },
  {
   "cell_type": "code",
   "execution_count": 36,
   "id": "c304791e",
   "metadata": {},
   "outputs": [],
   "source": [
    "r=Rectangle(\"red\",2.5,5,6)"
   ]
  },
  {
   "cell_type": "code",
   "execution_count": 37,
   "id": "91b7ad03",
   "metadata": {},
   "outputs": [
    {
     "name": "stdout",
     "output_type": "stream",
     "text": [
      "Rectangle colour is: red.\n",
      "border_widgth is: 2.5.\n",
      "Rectangle length is: 5.\n",
      "Rectangle widgth is :6.\n"
     ]
    }
   ],
   "source": [
    "r.rectangle_info()"
   ]
  },
  {
   "cell_type": "code",
   "execution_count": 38,
   "id": "3051b849",
   "metadata": {
    "scrolled": true
   },
   "outputs": [],
   "source": [
    "c=Circle(\"blue\",7,6)"
   ]
  },
  {
   "cell_type": "code",
   "execution_count": 39,
   "id": "7e0f7005",
   "metadata": {},
   "outputs": [
    {
     "name": "stdout",
     "output_type": "stream",
     "text": [
      "circle colour is: blue.\n",
      "Border width is: 7.\n",
      "Circle redius is: 6.\n"
     ]
    }
   ],
   "source": [
    "c.circle_info()"
   ]
  },
  {
   "cell_type": "raw",
   "id": "2d35d86c",
   "metadata": {},
   "source": [
    "9. Create a base class called \"Device\" with attributes like \"brand\" and \"model.\" Derive\n",
    "two classes, \"Phone\" and \"Tablet,\" from \"Device.\" Add specific attributes like\n",
    "\"screen_size\" for the \"Phone\" class and \"battery_capacity\" for the \"Tablet\" class.\n"
   ]
  },
  {
   "cell_type": "code",
   "execution_count": 40,
   "id": "a22ddb97",
   "metadata": {},
   "outputs": [],
   "source": [
    "class Device:\n",
    "    def __init__(self,brand,model):\n",
    "        self.brand=brand\n",
    "        self.model=model\n",
    "        \n",
    "        \n",
    "        \n",
    "class Phone(Device):\n",
    "    def __init__(self,brand,model,screen_size):\n",
    "        super().__init__(brand,model)\n",
    "        self.screen_size=screen_size\n",
    "        \n",
    "        \n",
    "    def phone_info(self):\n",
    "        print(f\"This phone is from {self.brand} and the model is {self.model}.\")\n",
    "        print(f\"Phone screen size is : {self.screen_size}.\")\n",
    "        \n",
    "        \n",
    "class Tablet(Device):\n",
    "    def __init__(self,brand,model,battery_capacity):\n",
    "        super().__init__(brand,model)\n",
    "        self.battery_capacity=battery_capacity\n",
    "        \n",
    "        \n",
    "    def tablet_info(self):\n",
    "        print(f\"This tablet is from {self.brand} and the model is {self.model}.\")\n",
    "        print(f\"Battery capacity of this tablet is {self.battery_capacity}.\")\n",
    "        \n",
    "        "
   ]
  },
  {
   "cell_type": "code",
   "execution_count": 41,
   "id": "a25fe7c0",
   "metadata": {},
   "outputs": [],
   "source": [
    "p1=Phone(\"apple\",\"iphone13\",5.4)"
   ]
  },
  {
   "cell_type": "code",
   "execution_count": 42,
   "id": "61135db7",
   "metadata": {},
   "outputs": [
    {
     "name": "stdout",
     "output_type": "stream",
     "text": [
      "This phone is from apple and the model is iphone13.\n",
      "Phone screen size is : 5.4.\n"
     ]
    }
   ],
   "source": [
    "p1.phone_info()"
   ]
  },
  {
   "cell_type": "code",
   "execution_count": 46,
   "id": "a69e7076",
   "metadata": {},
   "outputs": [],
   "source": [
    "t1=Tablet(\"apple\",\"ipad zen 3\", \"10 hours\")"
   ]
  },
  {
   "cell_type": "code",
   "execution_count": 47,
   "id": "5f274eaa",
   "metadata": {},
   "outputs": [
    {
     "name": "stdout",
     "output_type": "stream",
     "text": [
      "This tablet is from apple and the model is ipad zen 3.\n",
      "Battery capacity of this tablet is 10 hours.\n"
     ]
    }
   ],
   "source": [
    "t1.tablet_info()"
   ]
  },
  {
   "cell_type": "raw",
   "id": "ea2f415e",
   "metadata": {},
   "source": [
    "10. Create a base class called \"BankAccount\" with attributes like \"account_number\" and\n",
    "\"balance.\" Derive two classes, \"SavingsAccount\" and \"CheckingAccount,\" from\n",
    "\"BankAccount.\" Add specific methods like \"calculate_interest\" for the\n",
    "\"SavingsAccount\" class and \"deduct_fees\" for the \"CheckingAccount\" class.\n"
   ]
  },
  {
   "cell_type": "code",
   "execution_count": 62,
   "id": "38fc331c",
   "metadata": {},
   "outputs": [],
   "source": [
    "class Bank:\n",
    "    def __init__(self,account_number,balance):\n",
    "        self.account_number=account_number\n",
    "        self.balance=balance\n",
    "        \n",
    "        \n",
    "        \n",
    "        \n",
    "class SavingAccount(Bank):\n",
    "    def __init__(self,account_number,balance):\n",
    "        super().__init__(account_number,balance)\n",
    "        \n",
    "    def calculate_intrest(self):\n",
    "        self.balance= (self.balance*10)/100\n",
    "        print(f\"your total intrest is : {self.balance}\")\n",
    "        \n",
    "        \n",
    "        \n",
    "        \n",
    "        \n",
    "class CheckingAccount(Bank):\n",
    "    def __init__(self,account_number,balance):\n",
    "        super().__init__(account_number,balance)\n",
    "        \n",
    "        \n",
    "        \n",
    "    def deduct_fees(self):\n",
    "        self.balance=(self.balance*0.1)/100\n",
    "        print(f\"Deducted fee for checking account activity is : {self.balance}.\")\n",
    "              \n",
    "        \n",
    "    \n",
    "        \n",
    "        \n",
    "        "
   ]
  },
  {
   "cell_type": "code",
   "execution_count": 63,
   "id": "0349c110",
   "metadata": {},
   "outputs": [],
   "source": [
    "sav=SavingAccount(12345,1000)"
   ]
  },
  {
   "cell_type": "code",
   "execution_count": 64,
   "id": "8ad7487c",
   "metadata": {},
   "outputs": [
    {
     "name": "stdout",
     "output_type": "stream",
     "text": [
      "your total intrest is : 100.0\n"
     ]
    }
   ],
   "source": [
    "sav.calculate_intrest()"
   ]
  },
  {
   "cell_type": "code",
   "execution_count": 65,
   "id": "2758b451",
   "metadata": {},
   "outputs": [],
   "source": [
    "check=CheckingAccount(123456,10000)"
   ]
  },
  {
   "cell_type": "code",
   "execution_count": 66,
   "id": "f7dddfb6",
   "metadata": {},
   "outputs": [
    {
     "name": "stdout",
     "output_type": "stream",
     "text": [
      "Deducted fee for checking account activity is : 10.0.\n"
     ]
    }
   ],
   "source": [
    "check.deduct_fees()"
   ]
  },
  {
   "cell_type": "code",
   "execution_count": null,
   "id": "adfec39e",
   "metadata": {},
   "outputs": [],
   "source": []
  }
 ],
 "metadata": {
  "kernelspec": {
   "display_name": "Python 3 (ipykernel)",
   "language": "python",
   "name": "python3"
  },
  "language_info": {
   "codemirror_mode": {
    "name": "ipython",
    "version": 3
   },
   "file_extension": ".py",
   "mimetype": "text/x-python",
   "name": "python",
   "nbconvert_exporter": "python",
   "pygments_lexer": "ipython3",
   "version": "3.11.3"
  }
 },
 "nbformat": 4,
 "nbformat_minor": 5
}
